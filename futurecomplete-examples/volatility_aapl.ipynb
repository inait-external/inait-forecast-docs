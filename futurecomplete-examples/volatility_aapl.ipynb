{
 "cells": [
  {
   "cell_type": "code",
   "execution_count": null,
   "id": "f0895f4e",
   "metadata": {},
   "outputs": [],
   "source": [
    "from inait_forecasting_client import (\n",
    "    predict,\n",
    "    backtest,\n",
    "    plot,\n",
    "    compare,\n",
    "    compare_plot,\n",
    ")\n",
    "from utils import read_aapl_vola"
   ]
  },
  {
   "cell_type": "markdown",
   "id": "5e3270af",
   "metadata": {},
   "source": [
    "### Import dataset and define config "
   ]
  },
  {
   "cell_type": "code",
   "execution_count": null,
   "id": "f9b8b2f3",
   "metadata": {},
   "outputs": [],
   "source": [
    "data = read_aapl_vola()\n",
    "\n",
    "start_date = \"2016-03-01\"\n",
    "end_date = \"2016-10-31\"\n",
    "\n",
    "config_common = {\n",
    "    \"data\": data,\n",
    "    \"target_columns\": \"AAPL\",\n",
    "    \"explanatory_columns\": [\n",
    "        \"AAPL__hl\",\n",
    "        \"AAPL__co\",\n",
    "        \"AAPL__ocp\",\n",
    "        \"AAPL__log_returns\",\n",
    "        #'AAPL__lret_squared',\n",
    "        \"AAPL__earning_horizon1\",\n",
    "        \"AAPL__earning_horizon2\",\n",
    "        \"AAPL__earning_horizon3\",\n",
    "        \"AAPL__earning_horizon4\",\n",
    "    ],\n",
    "    \"forecasting_horizon\": 4,\n",
    "    \"target_transformer\": \"NO_TARGET_TRANSFORMER\",\n",
    "    \"model\": \"inait-best\",\n",
    "}\n",
    "config_predict = config_common.copy()\n",
    "config_predict.update(\n",
    "    {\n",
    "        \"session_id\": \"demo_vola_best_predict_v0\",\n",
    "        \"historical_data_end_date\": end_date,\n",
    "    }\n",
    ")\n",
    "config_backtest = config_common.copy()\n",
    "config_backtest.update(\n",
    "    {\n",
    "        \"data\": data,\n",
    "        \"start_date\": start_date,\n",
    "        \"end_date\": end_date,\n",
    "        \"session_id\": \"demo_vola_best_dates_v0\",  # cached session id\n",
    "    }\n",
    ")"
   ]
  },
  {
   "cell_type": "markdown",
   "id": "003631e7",
   "metadata": {},
   "source": [
    "### 1. Predict"
   ]
  },
  {
   "cell_type": "code",
   "execution_count": null,
   "id": "5cd7c88e",
   "metadata": {},
   "outputs": [],
   "source": [
    "predict_results = predict(**config_predict)\n",
    "plot(\n",
    "    historical_data=data.loc[:end_date, config_predict[\"target_columns\"]],\n",
    "    predicted_data=predict_results[\"prediction\"],\n",
    ")"
   ]
  },
  {
   "cell_type": "markdown",
   "id": "6b157733",
   "metadata": {},
   "source": [
    "### 2. Backtest"
   ]
  },
  {
   "cell_type": "code",
   "execution_count": null,
   "id": "7656b3c9",
   "metadata": {},
   "outputs": [],
   "source": [
    "backtest_results = backtest(**config_backtest)\n",
    "plot(\n",
    "    historical_data=data.loc[:, config_backtest[\"target_columns\"]],\n",
    "    predicted_data=backtest_results[\"prediction\"],\n",
    ")"
   ]
  },
  {
   "cell_type": "markdown",
   "id": "9e02598f",
   "metadata": {},
   "source": [
    "### 3. Compare"
   ]
  },
  {
   "cell_type": "code",
   "execution_count": null,
   "id": "29582a13",
   "metadata": {},
   "outputs": [],
   "source": [
    "session_ids = {\n",
    "    \"inait-best\": backtest_results[\"session_id\"],\n",
    "    # \"ridge\": None,\n",
    "    \"fast_boost\": \"demo_vola_fast_boost_dates_v0\",\n",
    "    \"naive\": \"demo_vola_naive_dates_v0\",  # \"demo_mean1_v0\",\n",
    "    \"mean_5\": \"demo_vola_mean5_dates_v0\",  # \"demo_mean5_v0\",\n",
    "    \"mean_10\": \"demo_vola_mean10_dates_v\",  # \"demo_mean10_v0\"\n",
    "}  # cached session ids for demo"
   ]
  },
  {
   "cell_type": "code",
   "execution_count": null,
   "id": "d767cf0e",
   "metadata": {},
   "outputs": [],
   "source": [
    "compare_results = compare(\n",
    "    models=session_ids.keys(), session_ids=session_ids, **config_backtest\n",
    ")\n",
    "compare_plot(compare_results[\"scores_df\"], plot_type=\"bar\")"
   ]
  },
  {
   "cell_type": "markdown",
   "id": "e31650b4",
   "metadata": {},
   "source": [
    "### Extra: Predict using optimal model based on backtest result"
   ]
  },
  {
   "cell_type": "code",
   "execution_count": null,
   "id": "5ccfd8f3",
   "metadata": {},
   "outputs": [],
   "source": [
    "if compare_results[\"optimal_model\"] == \"inait-best\":\n",
    "    print(\"The optimal model is the same as the backtested model.\")\n",
    "    config_optimal = config_predict.copy()\n",
    "else:\n",
    "    print(f\"Running predictions with optimal model: {compare_results['optimal_model']}\")\n",
    "    config_optimal = config_common.copy()\n",
    "    config_optimal[\"model\"] = compare_results[\"optimal_model\"]\n",
    "\n",
    "if compare_results[\"optimal_model\"] == \"naive\" or compare_results[\n",
    "    \"optimal_model\"\n",
    "].startswith(\"mean\"):\n",
    "    raise ValueError(\"Naive and Mean baselines are not yet supported for predict.\")\n",
    "else:\n",
    "    optimal_predict_results = predict(**config_optimal)\n",
    "    plot(\n",
    "        historical_data=data.loc[:end_date, config_optimal[\"target_columns\"]],\n",
    "        predicted_data=optimal_predict_results[\"prediction\"],\n",
    "    )"
   ]
  }
 ],
 "metadata": {
  "kernelspec": {
   "display_name": "inait-predict-examples",
   "language": "python",
   "name": "python3"
  },
  "language_info": {
   "codemirror_mode": {
    "name": "ipython",
    "version": 3
   },
   "file_extension": ".py",
   "mimetype": "text/x-python",
   "name": "python",
   "nbconvert_exporter": "python",
   "pygments_lexer": "ipython3",
   "version": "3.12.11"
  }
 },
 "nbformat": 4,
 "nbformat_minor": 5
}
