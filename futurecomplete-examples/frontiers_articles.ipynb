{
 "cells": [
  {
   "cell_type": "code",
   "execution_count": null,
   "id": "f0895f4e",
   "metadata": {},
   "outputs": [],
   "source": [
    "from inait_forecasting_client import (\n",
    "    predict,\n",
    "    backtest,\n",
    "    plot,\n",
    "    read_file,\n",
    "    compare,\n",
    "    compare_plot,\n",
    ")"
   ]
  },
  {
   "cell_type": "markdown",
   "id": "5e3270af",
   "metadata": {},
   "source": [
    "### Import dataset and define config "
   ]
  },
  {
   "cell_type": "code",
   "execution_count": null,
   "id": "f9b8b2f3",
   "metadata": {},
   "outputs": [],
   "source": [
    "data = read_file(\"../data/FMSA_Articles.csv\", index_col=0)\n",
    "\n",
    "config_common = {\n",
    "    \"data\": data,\n",
    "    \"target_columns\": \"Article submissions\",\n",
    "    \"forecasting_horizon\": 6,\n",
    "    \"model\": \"inait-best\",\n",
    "}\n",
    "config_predict = config_common.copy()\n",
    "\n",
    "config_backtest = config_common.copy()\n",
    "config_backtest.update(\n",
    "    {\n",
    "        \"backtest_size\": 12 * 2,  # last 2 years for backtest\n",
    "        # \"prediction_stride\": 6,  # make prediction every 6 months\n",
    "    }\n",
    ")"
   ]
  },
  {
   "cell_type": "markdown",
   "id": "003631e7",
   "metadata": {},
   "source": [
    "### 1. Predict"
   ]
  },
  {
   "cell_type": "code",
   "execution_count": null,
   "id": "36a2ace1",
   "metadata": {},
   "outputs": [],
   "source": [
    "predict_results = predict(**config_predict)\n",
    "plot(\n",
    "    historical_data=data.loc[:, config_predict[\"target_columns\"]],\n",
    "    predicted_data=predict_results[\"prediction\"],\n",
    ")"
   ]
  },
  {
   "cell_type": "markdown",
   "id": "6b157733",
   "metadata": {},
   "source": [
    "### 2. Backtest"
   ]
  },
  {
   "cell_type": "code",
   "execution_count": null,
   "id": "7656b3c9",
   "metadata": {},
   "outputs": [],
   "source": [
    "backtest_results = backtest(**config_backtest)\n",
    "plot(\n",
    "    historical_data=data.loc[:, config_backtest[\"target_columns\"]],\n",
    "    predicted_data=backtest_results[\"prediction\"],\n",
    ")"
   ]
  },
  {
   "cell_type": "code",
   "execution_count": null,
   "id": "74743866",
   "metadata": {},
   "outputs": [],
   "source": [
    "comparison_session_ids = {\n",
    "    \"inait-best\": backtest_results[\"session_id\"],\n",
    "    \"ridge\": None,\n",
    "    \"mean_10\": None,\n",
    "    \"naive\": None,\n",
    "}  # cached session ids for demo"
   ]
  },
  {
   "cell_type": "code",
   "execution_count": null,
   "id": "d767cf0e",
   "metadata": {},
   "outputs": [],
   "source": [
    "compare_results = compare(\n",
    "    models=comparison_session_ids.keys(),\n",
    "    session_ids=comparison_session_ids,\n",
    "    **config_backtest,\n",
    ")\n",
    "compare_plot(compare_results[\"scores_df\"], plot_type=\"bar\")"
   ]
  },
  {
   "cell_type": "markdown",
   "id": "e31650b4",
   "metadata": {},
   "source": [
    "### Extra: Predict using optimal model based on backtest result"
   ]
  },
  {
   "cell_type": "code",
   "execution_count": null,
   "id": "5ccfd8f3",
   "metadata": {},
   "outputs": [],
   "source": [
    "if compare_results[\"optimal_model\"] == \"inait-best\":\n",
    "    print(\"The optimal model is the same as the backtested model.\")\n",
    "    config_optimal = config_predict.copy()\n",
    "else:\n",
    "    print(f\"Running predictions with optimal model: {compare_results['optimal_model']}\")\n",
    "    config_optimal = config_common.copy()\n",
    "    config_optimal[\"model\"] = compare_results[\"optimal_model\"]\n",
    "if compare_results[\"optimal_model\"] == \"naive\" or compare_results[\n",
    "    \"optimal_model\"\n",
    "].startswith(\"mean\"):\n",
    "    raise ValueError(\"Naive and Mean baselines are not yet supported for predict.\")\n",
    "else:\n",
    "    optimal_predict_results = predict(**config_optimal)\n",
    "    plot(\n",
    "        historical_data=data.loc[:, config_optimal[\"target_columns\"]],\n",
    "        predicted_data=optimal_predict_results[\"prediction\"],\n",
    "    )"
   ]
  }
 ],
 "metadata": {
  "kernelspec": {
   "display_name": "inait-predict-examples",
   "language": "python",
   "name": "python3"
  },
  "language_info": {
   "codemirror_mode": {
    "name": "ipython",
    "version": 3
   },
   "file_extension": ".py",
   "mimetype": "text/x-python",
   "name": "python",
   "nbconvert_exporter": "python",
   "pygments_lexer": "ipython3",
   "version": "3.12.11"
  }
 },
 "nbformat": 4,
 "nbformat_minor": 5
}
