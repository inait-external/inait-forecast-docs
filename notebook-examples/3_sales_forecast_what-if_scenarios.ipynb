{
 "cells": [
  {
   "cell_type": "markdown",
   "id": "1840101c",
   "metadata": {},
   "source": [
    "## An example with sales-forecast  \n"
   ]
  },
  {
   "cell_type": "markdown",
   "id": "e00050d3",
   "metadata": {},
   "source": [
    "### Prerequisites\n",
    "\n",
    "Let's import the relevant packages first."
   ]
  },
  {
   "cell_type": "code",
   "execution_count": null,
   "id": "b8c745bc",
   "metadata": {},
   "outputs": [],
   "source": [
    "import sys\n",
    "import os\n",
    "\n",
    "sys.path.append(os.path.join(os.path.dirname(os.getcwd())))\n",
    "import pandas as pd\n",
    "\n",
    "from inait.prediction_script import predict\n",
    "from inait.plot_script import plot"
   ]
  },
  {
   "cell_type": "markdown",
   "id": "217095b6",
   "metadata": {},
   "source": [
    "Now specify the given base url and authentication key."
   ]
  },
  {
   "cell_type": "code",
   "execution_count": null,
   "id": "a8e2cd80",
   "metadata": {},
   "outputs": [],
   "source": [
    "# API Configuration\n",
    "try:\n",
    "    base_url = os.environ[\n",
    "        \"API_BASE_URL\"\n",
    "    ]  # Add the URL of your inait forecast deployment/SaaS\n",
    "    auth_key = os.environ[\"API_AUTH_KEY\"]  # Replace with your actual API key\n",
    "except KeyError as e:\n",
    "    raise ValueError(\n",
    "        f\"❌ Missing environment variable: {e}. Please set API_BASE_URL and API_AUTH_KEY.\"\n",
    "    )"
   ]
  },
  {
   "cell_type": "code",
   "execution_count": null,
   "id": "a80f9256",
   "metadata": {},
   "outputs": [],
   "source": [
    "# y = pd.read_hdf(\"../data/M5.h5\", key=\"y\")  # .astype(np.int32)\n",
    "# X = pd.read_hdf(\"../data/M5.h5\", key=\"X\")\n",
    "# calendar = pd.read_hdf(\"../data/M5.h5\", key=\"calendar\")\n",
    "# id_columns = pd.read_hdf(\"../data/M5.h5\", key=\"id_columns\")\n",
    "# sell_prices = pd.read_hdf(\"../data/M5.h5\", key=\"sell_prices\")"
   ]
  },
  {
   "cell_type": "code",
   "execution_count": null,
   "id": "e43c1103",
   "metadata": {},
   "outputs": [],
   "source": [
    "# # Load the data\n",
    "# y = pd.read_hdf(\"../data/lev3_store_id__CA_1__rollsales+3ids+3enc.h5\", key=\"y\")\n",
    "# X = pd.read_hdf(\"../data/lev3_store_id__CA_1__rollsales+3ids+3enc.h5\", key=\"X\")\n",
    "# y.columns = y.columns.str.replace(\"__prod\", \"\", regex=False)\n",
    "# y = y.iloc[:, :10]\n",
    "# y.to_csv(\"../data/lev3_store_id__CA_1__rollsales+3ids+3enc_y_short.csv\")"
   ]
  },
  {
   "cell_type": "code",
   "execution_count": null,
   "id": "7c86e340",
   "metadata": {},
   "outputs": [],
   "source": [
    "# Configure prediction parameters\n",
    "data_path = \"../data/lev3_store_id__CA_1__rollsales+3ids+3enc_y_short.csv\"\n",
    "y = pd.read_csv(data_path, index_col=0, parse_dates=True)\n",
    "target_columns = y.columns[:4]\n",
    "forecasting_horizon = 28  # Predict 28 time steps ahead\n",
    "observation_length = 28 * 2  # Use last 56 time steps as historical context"
   ]
  },
  {
   "cell_type": "code",
   "execution_count": null,
   "id": "104c6613",
   "metadata": {},
   "outputs": [],
   "source": [
    "prediction, session_id = predict(\n",
    "    base_url=base_url,\n",
    "    auth_key=auth_key,\n",
    "    # models = ['fast_boost'],\n",
    "    data_path=data_path,\n",
    "    target_columns=target_columns,\n",
    "    forecasting_horizon=forecasting_horizon,\n",
    "    observation_length=observation_length,\n",
    "    prediction_interval_levels=80,\n",
    ")\n",
    "\n",
    "prediction"
   ]
  },
  {
   "cell_type": "code",
   "execution_count": null,
   "id": "c3299853",
   "metadata": {},
   "outputs": [],
   "source": [
    "plot(historical_data=y[target_columns], predicted_data=prediction)"
   ]
  },
  {
   "cell_type": "code",
   "execution_count": null,
   "id": "7d6739eb",
   "metadata": {},
   "outputs": [],
   "source": []
  }
 ],
 "metadata": {
  "kernelspec": {
   "display_name": "inait-predict-examples",
   "language": "python",
   "name": "python3"
  },
  "language_info": {
   "codemirror_mode": {
    "name": "ipython",
    "version": 3
   },
   "file_extension": ".py",
   "mimetype": "text/x-python",
   "name": "python",
   "nbconvert_exporter": "python",
   "pygments_lexer": "ipython3",
   "version": "3.13.3"
  }
 },
 "nbformat": 4,
 "nbformat_minor": 5
}
