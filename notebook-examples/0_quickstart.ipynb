{
 "cells": [
  {
   "cell_type": "markdown",
   "id": "1840101c",
   "metadata": {},
   "source": [
    "## Quickstart \n",
    "\n",
    "In this notebook you will learn how to set up inait's prediction tool and its basic functionalities.\n",
    "\n",
    "We will use the classic Airline passenger dataset as a companion dataset but feel free to use your own data!"
   ]
  },
  {
   "cell_type": "markdown",
   "id": "e00050d3",
   "metadata": {},
   "source": [
    "### Prerequisites\n",
    "\n",
    "Let's import the relevant packages first."
   ]
  },
  {
   "cell_type": "code",
   "execution_count": null,
   "id": "b8c745bc",
   "metadata": {},
   "outputs": [],
   "source": [
    "import sys\n",
    "import pathlib\n",
    "\n",
    "import pandas as pd\n",
    "\n",
    "sys.path.append(pathlib.Path().resolve().parent.as_posix())\n",
    "\n",
    "from inait import predict, plot, load_credentials\n",
    "\n",
    "base_url, auth_key = load_credentials(\"../credentials.txt\")"
   ]
  },
  {
   "cell_type": "markdown",
   "id": "feea1e14",
   "metadata": {},
   "source": [
    "### Run your first prediction model\n",
    "\n",
    "We will present an example using the classic Box & Jenkins dataset that contains the monthly number of airline passengers between 1949 and 1960 (source: Box, George EP, et al. \"Time series analysis: forecasting and control.\" John Wiley & Sons, 2015.). The goal is to predict the passengers for the next year, i.e., 12 steps ahead. "
   ]
  },
  {
   "cell_type": "code",
   "execution_count": null,
   "id": "7c86e340",
   "metadata": {},
   "outputs": [],
   "source": [
    "### Load and plot the data\n",
    "data_path = \"../data/airline.csv\"\n",
    "data = pd.read_csv(\n",
    "    data_path, index_col=0\n",
    ")  # dataset must have a valid datetime index with fixed frequency\n",
    "\n",
    "plot(historical_data=data)"
   ]
  },
  {
   "cell_type": "markdown",
   "id": "3d86a789",
   "metadata": {},
   "source": [
    "To forecast using inait models you need to specify the dataset (we expect a pandas DataFrame), how many steps in the future you want to forecast (the so-called `forecasting_horizon`), and how many steps in the past you want to use to make a prediction (`observation_length`)."
   ]
  },
  {
   "cell_type": "code",
   "execution_count": null,
   "id": "3b123a18",
   "metadata": {},
   "outputs": [],
   "source": [
    "# Configure prediction parameters\n",
    "target_columns = [\n",
    "    \"number_of_passengers\"\n",
    "]  # List of target columns to predict in the dataset\n",
    "forecasting_horizon = 12  # Predict 12 months, i.e. 1 year ahead\n",
    "observation_length = 24  # Use last 24 months as historical context"
   ]
  },
  {
   "cell_type": "markdown",
   "id": "137af9d5",
   "metadata": {},
   "source": [
    "### Model selection\n",
    "\n",
    "The default model for the inait prediction tool is `\"inait-basic\"`, which balances speed and accuracy for most forecasting tasks.\n",
    "\n",
    "For higher accuracy, set the `model` parameter in the `predict` function to one of the following:\n",
    "\n",
    "- `\"inait-basic\"` (default): Fast, general-purpose.\n",
    "- `\"inait-advanced\"`: Higher accuracy, increased computation time.\n",
    "- `\"inait-best\"`: Maximum accuracy, highest computation time.\n",
    "\n",
    "Advanced models are covered in detail in the next notebook."
   ]
  },
  {
   "cell_type": "code",
   "execution_count": null,
   "id": "104c6613",
   "metadata": {},
   "outputs": [],
   "source": [
    "results = predict(\n",
    "    base_url=base_url,\n",
    "    auth_key=auth_key,\n",
    "    data=data,\n",
    "    target_columns=target_columns,\n",
    "    forecasting_horizon=forecasting_horizon,\n",
    "    observation_length=observation_length,\n",
    ")\n",
    "\n",
    "results[\"prediction\"]"
   ]
  },
  {
   "cell_type": "code",
   "execution_count": null,
   "id": "c3299853",
   "metadata": {},
   "outputs": [],
   "source": [
    "plot(\n",
    "    historical_data=data,\n",
    "    predicted_data=results[\"prediction\"],\n",
    "    observation_length=len(data),\n",
    ")"
   ]
  },
  {
   "cell_type": "markdown",
   "id": "ce5dee60",
   "metadata": {},
   "source": [
    "### Comments on results\n",
    "\n",
    "The predictions appear to be well aligned with the historical series. However, since they extend into the future relative to our dataset, we cannot compare them directly to a ground truth. In the next notebook, we will explore how to split the dataset into training and testing sets in order to run a backtest and evaluate  how well the model would have performed in the past.\n",
    "\n",
    "### Now it's your turn:\n",
    "Experiment with the notebook by adjusting different parameters; for example, try changing `forecasting_horizon` or `observation_length` to see how the predictions behave.\n",
    "You can also load your own dataset by uploading a file into the `data` folder and re-running the cells.\n",
    "\n",
    "**Note**: Some limitations apply when experimenting in this with this toy-problem because of the small size of the dataset. Not all parameter combinations or dataset sizes may be supported."
   ]
  },
  {
   "cell_type": "markdown",
   "id": "403f0e46",
   "metadata": {},
   "source": []
  }
 ],
 "metadata": {
  "kernelspec": {
   "display_name": "inait-predict-examples",
   "language": "python",
   "name": "python3"
  },
  "language_info": {
   "codemirror_mode": {
    "name": "ipython",
    "version": 3
   },
   "file_extension": ".py",
   "mimetype": "text/x-python",
   "name": "python",
   "nbconvert_exporter": "python",
   "pygments_lexer": "ipython3",
   "version": "3.12.9"
  }
 },
 "nbformat": 4,
 "nbformat_minor": 5
}
