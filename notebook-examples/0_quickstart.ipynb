{
 "cells": [
  {
   "cell_type": "markdown",
   "id": "1840101c",
   "metadata": {},
   "source": [
    "## Quickstart \n",
    "\n",
    "In this notebook you will learn how to set up inait's prediction tool and its basic functionalities.\n",
    "\n",
    "We will use the classic Airline passenger dataset as a companion dataset but feel free to use your own data!"
   ]
  },
  {
   "cell_type": "markdown",
   "id": "e00050d3",
   "metadata": {},
   "source": [
    "### Prerequisites\n",
    "\n",
    "Let's import the relevant packages first."
   ]
  },
  {
   "cell_type": "code",
   "execution_count": null,
   "id": "b8c745bc",
   "metadata": {},
   "outputs": [],
   "source": [
    "import sys\n",
    "import pathlib\n",
    "\n",
    "import pandas as pd\n",
    "\n",
    "sys.path.append(pathlib.Path().resolve().parent.as_posix())\n",
    "\n",
    "from inait import predict, plot, load_credentials\n",
    "\n",
    "base_url, auth_key = load_credentials(\"../credentials.txt\")"
   ]
  },
  {
   "cell_type": "markdown",
   "id": "feea1e14",
   "metadata": {},
   "source": [
    "### Run your first prediction model\n",
    "\n",
    "We will present an example using the classic Box & Jenkins dataset that contains the monthly number of airline passengers between 1949 and 1960 (source: Box, George EP, et al. Time series analysis: forecasting and control. John Wiley & Sons, 2015.). The goal is to predict the passengers for the next year, i.e., 12 steps ahead. \n",
    "\n",
    "To forecast using inait models you need to specifiy the dataset using `data_path`, how many steps in the future you want to forecast (the so-called `forecasting_horizon`), and how many steps in the past you want to use to make a prediction (`observation_length`). "
   ]
  },
  {
   "cell_type": "code",
   "execution_count": null,
   "id": "7c86e340",
   "metadata": {},
   "outputs": [],
   "source": [
    "### Load the data\n",
    "data_path = \"../data/Airline.csv\"\n",
    "data = pd.read_csv(\n",
    "    data_path, index_col=0\n",
    ")  # dataset must have a valid datetime index with fixed frequency\n",
    "\n",
    "# Configure prediction parameters\n",
    "target_columns = [\n",
    "    \"number_of_passengers\"\n",
    "]  # List of target columns to predict in the dataset\n",
    "forecasting_horizon = 12  # Predict 12 time steps ahead\n",
    "observation_length = 24  # Use last 24 time steps as historical context"
   ]
  },
  {
   "cell_type": "code",
   "execution_count": null,
   "id": "104c6613",
   "metadata": {},
   "outputs": [],
   "source": [
    "results = predict(\n",
    "    base_url=base_url,\n",
    "    auth_key=auth_key,\n",
    "    data=data,\n",
    "    target_columns=target_columns,\n",
    "    forecasting_horizon=forecasting_horizon,\n",
    "    observation_length=observation_length,\n",
    ")\n",
    "\n",
    "results[\"prediction\"]"
   ]
  },
  {
   "cell_type": "code",
   "execution_count": null,
   "id": "c3299853",
   "metadata": {},
   "outputs": [],
   "source": [
    "plot(\n",
    "    historical_data=data,\n",
    "    predicted_data=results[\"prediction\"],\n",
    "    observation_length=len(data),\n",
    ")"
   ]
  },
  {
   "cell_type": "markdown",
   "id": "ce5dee60",
   "metadata": {},
   "source": [
    "You can now try it out with different `forecasting_horizon` or `observation_length` parameters, or use you own dataset!"
   ]
  }
 ],
 "metadata": {
  "kernelspec": {
   "display_name": "inait-predict-examples",
   "language": "python",
   "name": "python3"
  },
  "language_info": {
   "codemirror_mode": {
    "name": "ipython",
    "version": 3
   },
   "file_extension": ".py",
   "mimetype": "text/x-python",
   "name": "python",
   "nbconvert_exporter": "python",
   "pygments_lexer": "ipython3",
   "version": "3.12.9"
  }
 },
 "nbformat": 4,
 "nbformat_minor": 5
}
