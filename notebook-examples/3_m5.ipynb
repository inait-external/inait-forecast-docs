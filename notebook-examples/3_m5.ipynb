{
 "cells": [
  {
   "cell_type": "markdown",
   "id": "1840101c",
   "metadata": {},
   "source": [
    "## Quickstart \n",
    "\n",
    "In this notebook you will learn how to set up inait's prediction tool and its basic functionalities.\n",
    "\n",
    "We will use the classic Airline passenger dataset as a companion dataset but feel free to use your own data!"
   ]
  },
  {
   "cell_type": "markdown",
   "id": "e00050d3",
   "metadata": {},
   "source": [
    "### Prerequisites\n",
    "\n",
    "Let's import the relevant packages first."
   ]
  },
  {
   "cell_type": "code",
   "execution_count": null,
   "id": "b8c745bc",
   "metadata": {},
   "outputs": [],
   "source": [
    "import sys\n",
    "import os\n",
    "\n",
    "sys.path.append(os.path.join(os.path.dirname(os.getcwd())))\n",
    "import pandas as pd\n",
    "\n",
    "from inait.prediction_script import predict\n",
    "from inait.plot_script import plot"
   ]
  },
  {
   "cell_type": "markdown",
   "id": "217095b6",
   "metadata": {},
   "source": [
    "Now specify the given base url and authentication key."
   ]
  },
  {
   "cell_type": "code",
   "execution_count": null,
   "id": "a8e2cd80",
   "metadata": {},
   "outputs": [],
   "source": [
    "# API Configuration\n",
    "try:\n",
    "    base_url = os.environ[\n",
    "        \"API_BASE_URL\"\n",
    "    ]  # Add the URL of your inait forecast deployment/SaaS\n",
    "    auth_key = os.environ[\"API_AUTH_KEY\"]  # Replace with your actual API key\n",
    "except KeyError as e:\n",
    "    raise ValueError(\n",
    "        f\"❌ Missing environment variable: {e}. Please set API_BASE_URL and API_AUTH_KEY.\"\n",
    "    )"
   ]
  },
  {
   "cell_type": "markdown",
   "id": "feea1e14",
   "metadata": {},
   "source": [
    "### Run your first prediction model\n",
    "\n",
    "We will present an example using the classic Box & Jenkins dataset that contains the monthly number of airline passengers between 1949 and 1960 (source: Box, George EP, et al. Time series analysis: forecasting and control. John Wiley & Sons, 2015.). The goal is to predict the passengers for the next year, i.e., 12 steps ahead. \n",
    "\n",
    "To forecast using inait models you need to specifiy the dataset using `data_path`, how many steps in the future you want to forecast (the so-called `forecasting_horizon`), and how many steps in the past you want to use to make a prediction (`observation_length`). "
   ]
  },
  {
   "cell_type": "code",
   "execution_count": null,
   "id": "7c86e340",
   "metadata": {},
   "outputs": [],
   "source": [
    "### Load the data\n",
    "data_path = \"../data/Airline.csv\"\n",
    "data = pd.read_csv(\n",
    "    data_path, index_col=0\n",
    ")  # dataset must have a valid datetime index with fixed frequency\n",
    "\n",
    "# Configure prediction parameters\n",
    "target_columns = [\n",
    "    \"number_of_passengers\"\n",
    "]  # List of target columns to predict in the dataset\n",
    "forecasting_horizon = 12  # Predict 12 time steps ahead\n",
    "observation_length = 24  # Use last 24 time steps as historical context"
   ]
  },
  {
   "cell_type": "code",
   "execution_count": null,
   "id": "104c6613",
   "metadata": {},
   "outputs": [],
   "source": [
    "prediction, session_id = predict(\n",
    "    base_url=base_url,\n",
    "    auth_key=auth_key,\n",
    "    data_path=data_path,\n",
    "    target_columns=target_columns,\n",
    "    forecasting_horizon=forecasting_horizon,\n",
    "    observation_length=observation_length,\n",
    ")\n",
    "\n",
    "prediction"
   ]
  },
  {
   "cell_type": "code",
   "execution_count": null,
   "id": "c3299853",
   "metadata": {},
   "outputs": [],
   "source": [
    "plot(historical_data=data, predicted_data=prediction)"
   ]
  },
  {
   "cell_type": "markdown",
   "id": "ce5dee60",
   "metadata": {},
   "source": [
    "You can now try it out with different `forecasting_horizon` or `observation_length` parameters, or use you own dataset!"
   ]
  },
  {
   "cell_type": "code",
   "execution_count": null,
   "id": "3d528a69",
   "metadata": {},
   "outputs": [],
   "source": []
  },
  {
   "cell_type": "code",
   "execution_count": null,
   "id": "4ff6f385",
   "metadata": {},
   "outputs": [],
   "source": []
  },
  {
   "cell_type": "code",
   "execution_count": null,
   "id": "24a868ed",
   "metadata": {},
   "outputs": [],
   "source": [
    "from inait.prediction_script import (\n",
    "    create_payload_from_file,\n",
    "    get_dataframe_from_response,\n",
    ")\n",
    "from inait.utils import make_request, make_get_request\n",
    "\n",
    "prediction_url = base_url + \"/prediction\"\n",
    "\n",
    "payload = create_payload_from_file(\n",
    "    file_path=data_path,\n",
    "    target_columns=target_columns[0],\n",
    "    # feature_columns=features,\n",
    "    forecasting_horizon=forecasting_horizon,\n",
    "    observation_length=observation_length,\n",
    "    models=\"basic\",\n",
    "    prediction_interval_levels=\"90\",\n",
    "    background=True,  # Essential for quality uncertainty quantification\n",
    ")\n",
    "\n",
    "\n",
    "response = make_request(prediction_url, payload, auth_key=auth_key)\n",
    "session_id = response[\"session_id\"]\n",
    "\n",
    "status_url = base_url + \"/status/\"\n",
    "status_response = make_get_request(status_url, session_id=session_id, auth_key=auth_key)\n",
    "print(f\"Initial Status: {status_response['status']}\")\n",
    "\n",
    "# Optimized polling for uncertainty-focused ensemble\n",
    "poll_count = 0\n",
    "\n",
    "while status_response[\"status\"] == \"in_progress\":\n",
    "    poll_count += 1\n",
    "    print(poll_count, \"Polling for status...\")\n",
    "    status_response = make_get_request(\n",
    "        status_url, session_id=session_id, auth_key=auth_key\n",
    "    )\n",
    "\n",
    "if status_response[\"status\"] == \"completed\":\n",
    "    result_url = base_url + \"/result/\"\n",
    "    result_response = make_get_request(\n",
    "        result_url, session_id=session_id, auth_key=auth_key\n",
    "    )\n",
    "    df_uncertainty, _ = get_dataframe_from_response(result_response[\"result\"])\n",
    "\n",
    "df_uncertainty"
   ]
  },
  {
   "cell_type": "code",
   "execution_count": null,
   "id": "97bb238a",
   "metadata": {},
   "outputs": [],
   "source": [
    "import plotly.graph_objects as go\n",
    "\n",
    "fig = go.Figure()\n",
    "fig.add_trace(\n",
    "    go.Scatter(\n",
    "        x=data.index,\n",
    "        y=data[\"number_of_passengers\"],\n",
    "        mode=\"lines\",\n",
    "        name=\"historical_data\",\n",
    "    )\n",
    ")\n",
    "fig.add_trace(\n",
    "    go.Scatter(\n",
    "        x=df_uncertainty.ds,\n",
    "        y=df_uncertainty[\"Inait\"],\n",
    "        mode=\"lines\",\n",
    "        name=\"point_forecast\",\n",
    "    )\n",
    ")\n",
    "fig.add_trace(\n",
    "    go.Scatter(\n",
    "        x=df_uncertainty.ds,\n",
    "        y=df_uncertainty[\"Inait-lo-90\"],\n",
    "        mode=\"lines\",\n",
    "        name=\"90% lower bound\",\n",
    "    )\n",
    ")\n",
    "fig.add_trace(\n",
    "    go.Scatter(\n",
    "        x=df_uncertainty.ds,\n",
    "        y=df_uncertainty[\"Inait-hi-90\"],\n",
    "        mode=\"lines\",\n",
    "        name=\"90% upper bound\",\n",
    "    )\n",
    ")"
   ]
  }
 ],
 "metadata": {
  "kernelspec": {
   "display_name": "inait-predict-examples",
   "language": "python",
   "name": "python3"
  },
  "language_info": {
   "codemirror_mode": {
    "name": "ipython",
    "version": 3
   },
   "file_extension": ".py",
   "mimetype": "text/x-python",
   "name": "python",
   "nbconvert_exporter": "python",
   "pygments_lexer": "ipython3",
   "version": "3.12.9"
  }
 },
 "nbformat": 4,
 "nbformat_minor": 5
}
