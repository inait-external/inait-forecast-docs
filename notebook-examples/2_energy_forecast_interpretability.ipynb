{
 "cells": [
  {
   "cell_type": "markdown",
   "id": "1840101c",
   "metadata": {},
   "source": [
    "## Understanding What Drives the Forecast\n",
    "In this notebook, we focus on interpretability, i.e., understanding why the model makes its predictions. We introduce a way to measure how much each input factor contributes to the forecast. This helps identify the key drivers behind the predictions and supports informed decision-making.\n",
    "\n",
    "For this example, we use the German energy day-ahead hourly prediction dataset with two main features:\n",
    "- Consumption: the actual electricity demand.\n",
    "- Residual load: the demand not covered by renewable generation.\n",
    "\n",
    "By examining the relative importance of these features, we can see which factors most influence the forecast at different times, enabling better operational and strategic planning."
   ]
  },
  {
   "cell_type": "markdown",
   "id": "e00050d3",
   "metadata": {},
   "source": [
    "### Prerequisites\n",
    "\n",
    "Let's import the relevant packages and load the credentials that you've inserted in `credentials.txt`."
   ]
  },
  {
   "cell_type": "code",
   "execution_count": null,
   "id": "b8c745bc",
   "metadata": {},
   "outputs": [],
   "source": [
    "import sys\n",
    "import pathlib\n",
    "\n",
    "import pandas as pd\n",
    "\n",
    "sys.path.append(pathlib.Path().resolve().parent.as_posix())\n",
    "\n",
    "from inait import explain, predict, plot, load_credentials\n",
    "\n",
    "base_url, auth_key = load_credentials(\"../credentials.txt\")"
   ]
  },
  {
   "cell_type": "markdown",
   "id": "feea1e14",
   "metadata": {},
   "source": [
    "### Load the dataset\n",
    "\n"
   ]
  },
  {
   "cell_type": "code",
   "execution_count": null,
   "id": "7c86e340",
   "metadata": {},
   "outputs": [],
   "source": [
    "### Load the data\n",
    "data_path = \"../data/power_day_ahead.csv\"\n",
    "data = pd.read_csv(\n",
    "    data_path, index_col=0\n",
    ")  # dataset must have a valid datetime index with fixed frequency\n",
    "plot(historical_data=data, observation_length=int(data.shape[0] * 0.5))"
   ]
  },
  {
   "cell_type": "markdown",
   "id": "11c065e0",
   "metadata": {},
   "source": [
    "### Forecasting setup and run \n",
    "We set the target variable to be the price `DE_Spot_EPEX_1H_A`, besides that we will use two features to train the model: `DE_Residual_Load_15M_A_AVG`, and `DE_Consumption_15M_A_AVG`."
   ]
  },
  {
   "cell_type": "code",
   "execution_count": null,
   "id": "17f13c19",
   "metadata": {},
   "outputs": [],
   "source": [
    "# Configure prediction parameters\n",
    "target_columns = [\n",
    "    \"DE_Spot_EPEX_1H_A\"\n",
    "]  # List of target columns to predict in the dataset\n",
    "feature_columns = [\n",
    "    \"DE_Residual_Load_15M_A_AVG\",\n",
    "    \"DE_Consumption_15M_A_AVG\",\n",
    "]  # Optional: List of feature columns to use for prediction\n",
    "forecasting_horizon = 24  # Predict 24 time steps ahead (1 day)\n",
    "observation_length = 24  # Use last 24 time steps as historical context (1 day)"
   ]
  },
  {
   "cell_type": "code",
   "execution_count": null,
   "id": "104c6613",
   "metadata": {},
   "outputs": [],
   "source": [
    "results, session_ids = {}, {}\n",
    "for features in [\"Price-only model \", \"Price + other drivers model\"]:\n",
    "    if features == \"Price + other drivers model\":\n",
    "        _feature_columns = feature_columns\n",
    "    else:\n",
    "        _feature_columns = None\n",
    "\n",
    "    result = predict(\n",
    "        base_url=base_url,\n",
    "        auth_key=auth_key,\n",
    "        data=data.iloc[\n",
    "            :-forecasting_horizon, :\n",
    "        ],  # we keep the last 24 observations as ground truth\n",
    "        target_columns=target_columns,\n",
    "        feature_columns=_feature_columns,\n",
    "        forecasting_horizon=forecasting_horizon,\n",
    "        observation_length=observation_length,\n",
    "        model=\"inait-basic\",  # Use the advanced model for prediction\n",
    "    )\n",
    "\n",
    "    results[features] = result[\"prediction\"]\n",
    "    session_ids[features] = result[\"session_id\"]\n",
    "\n",
    "results[\"Price + other drivers model\"]"
   ]
  },
  {
   "cell_type": "code",
   "execution_count": null,
   "id": "c3299853",
   "metadata": {},
   "outputs": [],
   "source": [
    "plot(\n",
    "    historical_data=data.loc[:, target_columns],\n",
    "    predicted_data=results,\n",
    "    observation_length=24 * 5,\n",
    ")"
   ]
  },
  {
   "cell_type": "markdown",
   "id": "29443d60",
   "metadata": {},
   "source": "Now let's run inait `explain` feature to identify the main drivers behind the predictions. Each forecasting horizon may have different key drivers (by default, the first forecasting horizon is shown, but you can change this).\n\nIn this example, we display the drivers for the prediction at 19:00, a classic peak time in the energy market that is notoriously difficult to forecast accurately. The bars in the plot are ordered by their importance. Each bar is labeled with a variable name (e.g., price, consumption, or residual load) and a time reference in the format `t-1`, `t-2`, …, `t-observation_length`.\n\nThis time reference indicates which historical time step of that variable is influential. For example, if `price (t-1)` appears in the top 10, it means that  most recent observation of the price variable is among the most important predictors."
  },
  {
   "cell_type": "code",
   "execution_count": null,
   "id": "cfd19d99",
   "metadata": {},
   "outputs": [],
   "source": [
    "explain(\n",
    "    session_id=session_ids[\"Price + other drivers model\"],\n",
    "    base_url=base_url,\n",
    "    auth_key=auth_key,\n",
    "    historical_data=data.iloc[\n",
    "        :-24, :\n",
    "    ],  # we keep the last 24 observations as ground truth\n",
    "    max_drivers_displayed=10,\n",
    "    forecasted_step=18,  # 19:00 is a classic peak time in the energy market\n",
    ")"
   ]
  },
  {
   "cell_type": "markdown",
   "id": "688f39ef",
   "metadata": {},
   "source": [
    "### Comments on results\n",
    "\n",
    "We have run two models: one without features and one with features. The model with features demonstrates higher accuracy. The explanation plot reveals that consumption is one of the main drivers of the prediction, highlighting the critical importance of domain knowledge when selecting features for forecasting models. This analysis confirms that well-chosen features based on domain expertise can substantially improve model performance and interpretability."
   ]
  }
 ],
 "metadata": {
  "kernelspec": {
   "display_name": "inait-predict-examples",
   "language": "python",
   "name": "python3"
  },
  "language_info": {
   "codemirror_mode": {
    "name": "ipython",
    "version": 3
   },
   "file_extension": ".py",
   "mimetype": "text/x-python",
   "name": "python",
   "nbconvert_exporter": "python",
   "pygments_lexer": "ipython3",
   "version": "3.13.3"
  }
 },
 "nbformat": 4,
 "nbformat_minor": 5
}