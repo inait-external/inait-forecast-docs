{
    "cells": [
        {
            "cell_type": "markdown",
            "id": "1840101c",
            "metadata": {},
            "source": [
                "## Model interpretability\n",
                "\n",
                "In this notebook you will learn how to set up inait's explanation tool.\n",
                "\n",
                "We will use a electric power dataset as a companion dataset but feel free to use your own data!"
            ]
        },
        {
            "cell_type": "markdown",
            "id": "e00050d3",
            "metadata": {},
            "source": [
                "### Prerequisites\n",
                "\n",
                "Let's import the relevant packages and add load the credentials that you've inserted in `credentials.txt`."
            ]
        },
        {
            "cell_type": "code",
            "execution_count": null,
            "id": "b8c745bc",
            "metadata": {},
            "outputs": [],
            "source": [
                "import sys\n",
                "import pathlib\n",
                "\n",
                "import pandas as pd\n",
                "\n",
                "sys.path.append(pathlib.Path().resolve().parent.as_posix())\n",
                "\n",
                "from inait import predict, plot, load_credentials\n",
                "\n",
                "base_url, auth_key = load_credentials(\"../credentials.txt\")"
            ]
        },
        {
            "cell_type": "markdown",
            "id": "feea1e14",
            "metadata": {},
            "source": [
                "### First run the prediction model\n",
                "\n",
                "We will use ...\n",
                "\n",
                "To forecast using inait models you need to specifiy the dataset using `data_path`, how many steps in the future you want to forecast (the so-called `forecasting_horizon`), and how many steps in the past you want to use to make a prediction (`observation_length`). "
            ]
        },
        {
            "cell_type": "code",
            "execution_count": null,
            "id": "7c86e340",
            "metadata": {},
            "outputs": [],
            "source": [
                "### Load the data\n",
                "data_path = \"../data/demo_power.csv\"\n",
                "data = pd.read_csv(\n",
                "    data_path, index_col=0\n",
                ")  # dataset must have a valid datetime index with fixed frequency\n",
                "\n",
                "# Configure prediction parameters\n",
                "target_columns = [\n",
                "    \"DE_Spot_EPEX_1H_A\"\n",
                "]  # List of target columns to predict in the dataset\n",
                "feature_columns = [\n",
                "    \"DE_Residual_Load_15M_A_AVG\",\n",
                "    \"DE_Consumption_15M_A_AVG\",\n",
                "]  # Optional: List of feature columns to use for prediction\n",
                "forecasting_horizon = 12  # Predict 12 time steps ahead\n",
                "observation_length = 12  # Use last 12 time steps as historical context"
            ]
        },
        {
            "cell_type": "code",
            "execution_count": null,
            "id": "104c6613",
            "metadata": {},
            "outputs": [],
            "source": [
                "prediction, session_id = predict(\n",
                "    base_url=base_url,\n",
                "    auth_key=auth_key,\n",
                "    data_path=data_path,\n",
                "    target_columns=target_columns,\n",
                "    feature_columns=feature_columns,\n",
                "    forecasting_horizon=forecasting_horizon,\n",
                "    observation_length=observation_length,\n",
                ")\n",
                "\n",
                "prediction"
            ]
        },
        {
            "cell_type": "code",
            "execution_count": null,
            "id": "c3299853",
            "metadata": {},
            "outputs": [],
            "source": [
                "plot(\n",
                "    historical_data=data.loc[:, target_columns],\n",
                "    predicted_data=prediction,\n",
                "    observation_length=24,\n",
                ")"
            ]
        },
        {
            "cell_type": "markdown",
            "id": "ce5dee60",
            "metadata": {},
            "source": [
                "You can now try it out with different `forecasting_horizon` or `observation_length` parameters, or use you own dataset!"
            ]
        },
        {
            "cell_type": "code",
            "execution_count": null,
            "id": "cfd19d99",
            "metadata": {},
            "outputs": [],
            "source": [
                "from inait import create_explanation_payload, make_request\n",
                "\n",
                "payload = create_explanation_payload(\n",
                "    session_id=session_id, cutoff_days=\"1960-12-31 00:00:00\"\n",
                ")\n",
                "explanation_response = make_request(\n",
                "    base_url + \"/explanation\", payload, auth_key=auth_key\n",
                ")\n",
                "df = explanation_response[\"response\"][\"data\"][\"1960-12-31 00:00:00\"][\n",
                "    \"1961-01-31 00:00:00\"\n",
                "]\n",
                "\n",
                "df = pd.DataFrame([df])\n",
                "df = df.iloc[:, :-1]\n",
                "df = df.T\n",
                "\n",
                "df"
            ]
        },
        {
            "cell_type": "code",
            "execution_count": null,
            "id": "497e8d25",
            "metadata": {},
            "outputs": [],
            "source": []
        }
    ],
    "metadata": {
        "kernelspec": {
            "display_name": "inait-predict-examples",
            "language": "python",
            "name": "python3"
        },
        "language_info": {
            "codemirror_mode": {
                "name": "ipython",
                "version": 3
            },
            "file_extension": ".py",
            "mimetype": "text/x-python",
            "name": "python",
            "nbconvert_exporter": "python",
            "pygments_lexer": "ipython3",
            "version": "3.13.3"
        }
    },
    "nbformat": 4,
    "nbformat_minor": 5
}