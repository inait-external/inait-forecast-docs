{
 "cells": [
  {
   "cell_type": "markdown",
   "id": "1840101c",
   "metadata": {},
   "source": [
    "## Understanding What Drives the Forecast\n",
    "In this notebook we focus on interpretability, i.e., understanding how the model makes its predictions. We introduce a method for quantifying each input factor’s contribution to the forecast, highlighting the key drivers behind the predictions and supporting informed decision-making.\n",
    "\n",
    "For this example, we use the German energy day-ahead hourly prediction dataset, built around two key explanatory variables:\n",
    "- **Consumption** - actual electricity demand.\n",
    "- **Residual load** - demand not covered by renewable generation.\n",
    "\n",
    "he dataset used here was developed in-house and includes recent data up until March 2024. Unlike publicly available datasets, ours reflects recent market realities, capturing major regime shifts, unexpected events, and outliers from the past years. This ensures that our model benchmarks are tested under realistic and challenging conditions - the kind encountered in live operations.\n",
    "\n",
    "By analyzing the relative importance of these drivers, we uncover which factors most influence the price forecast at different times - insights that directly support smarter operational decisions and stronger strategic planning.\n"
   ]
  },
  {
   "cell_type": "markdown",
   "id": "e00050d3",
   "metadata": {},
   "source": [
    "### Prerequisites\n",
    "\n",
    "Let's import the relevant packages."
   ]
  },
  {
   "cell_type": "code",
   "execution_count": null,
   "id": "b8c745bc",
   "metadata": {},
   "outputs": [],
   "source": [
    "import sys\n",
    "import pathlib\n",
    "\n",
    "\n",
    "sys.path.append(pathlib.Path().resolve().parent.as_posix())\n",
    "\n",
    "from inait import explain, predict, plot, read_file"
   ]
  },
  {
   "cell_type": "markdown",
   "id": "feea1e14",
   "metadata": {},
   "source": [
    "### Load the dataset\n",
    "\n"
   ]
  },
  {
   "cell_type": "code",
   "execution_count": null,
   "id": "7c86e340",
   "metadata": {},
   "outputs": [],
   "source": [
    "### Load the data\n",
    "data_path = \"../data/power_day_ahead.csv\"\n",
    "data = read_file(\n",
    "    data_path, index_col=0\n",
    ")  # dataset must have a valid datetime index with fixed frequency\n",
    "plot(historical_data=data, observation_length=int(data.shape[0] * 0.5))"
   ]
  },
  {
   "cell_type": "markdown",
   "id": "11c065e0",
   "metadata": {},
   "source": [
    "### Forecasting setup and run \n",
    "We set the target variable to the price`DE_Spot_EPEX_1H_A` and use two explanatory variables to train the model: `DE_Residual_Load_15M_A_AVG`, and `DE_Consumption_15M_A_AVG`."
   ]
  },
  {
   "cell_type": "code",
   "execution_count": null,
   "id": "17f13c19",
   "metadata": {},
   "outputs": [],
   "source": [
    "# Configure prediction parameters\n",
    "target_columns = [\n",
    "    \"DE_Spot_EPEX_1H_A\"\n",
    "]  # List of target columns to predict in the dataset\n",
    "explanatory_columns = [\n",
    "    \"DE_Residual_Load_15M_A_AVG\",\n",
    "    \"DE_Consumption_15M_A_AVG\",\n",
    "]  # Optional: List of explanatory columns to use for prediction\n",
    "forecasting_horizon = 24  # Predict 24 hours ahead\n",
    "observation_length = 24  # Use last 24 hours as historical context\n",
    "model = \"inait-advanced\""
   ]
  },
  {
   "cell_type": "code",
   "execution_count": null,
   "id": "104c6613",
   "metadata": {},
   "outputs": [],
   "source": [
    "results, session_ids = {}, {}\n",
    "for scenario in [\"Price-only model \", \"Price + other drivers model\"]:\n",
    "    if scenario == \"Price + other drivers model\":\n",
    "        _explanatory_columns = explanatory_columns\n",
    "    else:\n",
    "        _explanatory_columns = None\n",
    "\n",
    "    result = predict(\n",
    "        data=data.iloc[\n",
    "            :-forecasting_horizon, :\n",
    "        ],  # we keep the last 24 observations as ground truth\n",
    "        target_columns=target_columns,\n",
    "        explanatory_columns=_explanatory_columns,\n",
    "        forecasting_horizon=forecasting_horizon,\n",
    "        observation_length=observation_length,\n",
    "        model=model,\n",
    "    )\n",
    "\n",
    "    results[scenario] = result[\"prediction\"]\n",
    "    session_ids[scenario] = result[\"session_id\"]\n",
    "\n",
    "results[\"Price + other drivers model\"]"
   ]
  },
  {
   "cell_type": "code",
   "execution_count": null,
   "id": "c3299853",
   "metadata": {},
   "outputs": [],
   "source": [
    "plot(\n",
    "    historical_data=data.loc[:, target_columns],\n",
    "    predicted_data=results,\n",
    "    observation_length=24 * 5,\n",
    ")"
   ]
  },
  {
   "cell_type": "markdown",
   "id": "29443d60",
   "metadata": {},
   "source": [
    "Now, let's run inait's `explain` feature to identify the main drivers behind the predictions. Each forecasting horizon can have its own set of key drivers. By default, the feature shows results for the first forecasting horizon (`forecasted_step=0`), but you can easily change this.\n",
    "\n",
    "In this example, we focus on the prediction for 19:00, a classic peak in the energy market that is notoriously difficult to forecast accurately."
   ]
  },
  {
   "cell_type": "code",
   "execution_count": null,
   "id": "cfd19d99",
   "metadata": {},
   "outputs": [],
   "source": [
    "explain(\n",
    "    session_id=session_ids[\"Price + other drivers model\"],\n",
    "    historical_data=data.iloc[\n",
    "        :-24, :\n",
    "    ],  # we keep the last 24 observations as ground truth\n",
    "    target_column=target_columns[0],\n",
    "    max_drivers_displayed=10,  # you can increase this number to see more drivers\n",
    "    forecasted_step=18,  # 19:00 (the 19th hour, index 18 since 0-indexed) is a classic peak time in the energy market\n",
    ")"
   ]
  },
  {
   "cell_type": "markdown",
   "id": "688f39ef",
   "metadata": {},
   "source": [
    "### Comments on results\n",
    "The bars in the plot are ordered by their importance. Each bar is labeled with a variable name (e.g., price, consumption, or residual load) and a time reference in the format `t-1`, `t-2`, ..., `t-observation_length`. The time reference indicates which historical time step of that variable contributes to the prediction. For example, if `DE_Spot_EPEX_1H_A(t-1)` appears in the top 10, it means that the most recent observation of the (spot) price variable is one of the most important predictors.\n",
    "\n",
    "The last bar in the plot shows the summed importance of all remaining drivers. In this example, we have three core drivers, each considered over an `observation_length` of 24 hours, giving us a total of 72 factors. Even though the plot highlights only the top 10, the total information contained in the remaining 62 factors is still far from negligible.\n",
    "\n",
    "### Final considerations\n",
    "\n",
    "We have run two models: one without explanatory variables and one with explanatory variables. The model with explanatory variables demonstrates higher accuracy. The explanation plot shows that consumption and residual load—the two external drivers—are important contributors to the prediction. These variables complement the price input, which remains a key driver on its own. While domain knowledge is valuable for the initial selection of candidate explanatory variables, the `explain` feature then reveals exactly which variables the model finds most important. This combination of expert intuition and data-driven explanation helps enhance both model performance and interpretability."
   ]
  },
  {
   "cell_type": "markdown",
   "id": "acf3f9e6",
   "metadata": {},
   "source": []
  }
 ],
 "metadata": {
  "kernelspec": {
   "display_name": "inait-predict-examples",
   "language": "python",
   "name": "python3"
  },
  "language_info": {
   "codemirror_mode": {
    "name": "ipython",
    "version": 3
   },
   "file_extension": ".py",
   "mimetype": "text/x-python",
   "name": "python",
   "nbconvert_exporter": "python",
   "pygments_lexer": "ipython3",
   "version": "3.13.3"
  }
 },
 "nbformat": 4,
 "nbformat_minor": 5
}
