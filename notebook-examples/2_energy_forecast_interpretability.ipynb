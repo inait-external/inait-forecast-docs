{
 "cells": [
  {
   "cell_type": "markdown",
   "id": "1840101c",
   "metadata": {},
   "source": [
    "## Understanding What Drives the Forecast\n",
    "In this notebook, we focus on interpretability, i.e., understanding why the model makes its predictions. We introduce a way to measure how much each input factor contributes to the forecast. This helps identify the key drivers behind the predictions and supports informed decision-making.\n",
    "\n",
    "For this example, we use an energy day-ahead hourly prediction dataset with two main features:\n",
    "- Consumption: the forecasted electricity demand.\n",
    "- Residual load: the demand not covered by renewable generation.\n",
    "\n",
    "By examining the relative importance of these features, we can see which factors most influence the forecast at different times, enabling better operational and strategic planning."
   ]
  },
  {
   "cell_type": "markdown",
   "id": "e00050d3",
   "metadata": {},
   "source": [
    "### Prerequisites\n",
    "\n",
    "Let's import the relevant packages and load the credentials that you've inserted in `credentials.txt`."
   ]
  },
  {
   "cell_type": "code",
   "execution_count": null,
   "id": "b8c745bc",
   "metadata": {},
   "outputs": [],
   "source": [
    "import sys\n",
    "import pathlib\n",
    "\n",
    "import pandas as pd\n",
    "\n",
    "sys.path.append(pathlib.Path().resolve().parent.as_posix())\n",
    "\n",
    "from inait import explain, predict, plot, load_credentials\n",
    "\n",
    "base_url, auth_key = load_credentials(\"../credentials.txt\")"
   ]
  },
  {
   "cell_type": "markdown",
   "id": "feea1e14",
   "metadata": {},
   "source": [
    "### Load the dataset and forecasting settings\n",
    "\n",
    "We set the target variable to be the price \"DE_Spot_EPEX_1H_A\", besides that we will use two features to train the model: \"DE_Residual_Load_15M_A_AVG\", and \"DE_Consumption_15M_A_AVG\"."
   ]
  },
  {
   "cell_type": "code",
   "execution_count": null,
   "id": "7c86e340",
   "metadata": {},
   "outputs": [],
   "source": [
    "### Load the data\n",
    "data_path = \"../data/power_day_ahead.csv\"\n",
    "data = pd.read_csv(\n",
    "    data_path, index_col=0\n",
    ")  # dataset must have a valid datetime index with fixed frequency\n",
    "\n",
    "# Configure prediction parameters\n",
    "target_columns = [\n",
    "    \"DE_Spot_EPEX_1H_A\"\n",
    "]  # List of target columns to predict in the dataset\n",
    "feature_columns = [\n",
    "    \"DE_Residual_Load_15M_A_AVG\",\n",
    "    \"DE_Consumption_15M_A_AVG\",\n",
    "]  # Optional: List of feature columns to use for prediction\n",
    "forecasting_horizon = 24  # Predict 24 time steps ahead\n",
    "observation_length = 24  # Use last 24 time steps as historical context"
   ]
  },
  {
   "cell_type": "code",
   "execution_count": null,
   "id": "104c6613",
   "metadata": {},
   "outputs": [],
   "source": [
    "results={}\n",
    "session_ids = {}\n",
    "for features in [\"No Features\", \"With Features\"]:\n",
    "    if features == \"With Features\":\n",
    "        _feature_columns = feature_columns\n",
    "    else:\n",
    "        _feature_columns = None\n",
    "\n",
    "    result = predict(\n",
    "        base_url=base_url,\n",
    "        auth_key=auth_key,\n",
    "        data=data.iloc[:-24,:], # we keep the last 24 observations as ground truth\n",
    "        target_columns=target_columns,\n",
    "        feature_columns=_feature_columns,\n",
    "        forecasting_horizon=forecasting_horizon,\n",
    "        observation_length=observation_length,\n",
    "    )\n",
    "    \n",
    "    results[features] = result[\"prediction\"]\n",
    "    session_ids[features] = result[\"session_id\"]\n",
    "\n",
    "results[\"With Features\"]"
   ]
  },
  {
   "cell_type": "code",
   "execution_count": null,
   "id": "c3299853",
   "metadata": {},
   "outputs": [],
   "source": [
    "plot(\n",
    "    historical_data=data.loc[:, target_columns], # we keep the last 24 observations as ground truth \n",
    "    predicted_data=results,\n",
    "    observation_length=24*5,\n",
    ")"
   ]
  },
  {
   "cell_type": "code",
   "execution_count": null,
   "id": "cfd19d99",
   "metadata": {},
   "outputs": [],
   "source": [
    "explain(\n",
    "    session_id=session_ids[\"With Features\"],\n",
    "    base_url=base_url,\n",
    "    auth_key=auth_key,\n",
    "    historical_data=data.iloc[:-24,:],\n",
    "    max_features_displayed=10,\n",
    ")"
   ]
  },
  {
   "cell_type": "markdown",
   "id": "688f39ef",
   "metadata": {},
   "source": [
    "### Comments on results\n",
    "\n",
    "We have run two models: one without features and one with features. The model with features demonstrates higher accuracy. The explanation plot reveals that consumption is one of the main drivers of the prediction, highlighting the critical importance of domain knowledge when selecting features for forecasting models. This analysis confirms that well-chosen features based on domain expertise can substantially improve model performance and interpretability."
   ]
  },
  {
   "cell_type": "code",
   "execution_count": null,
   "id": "4caad79a",
   "metadata": {},
   "outputs": [],
   "source": []
  }
 ],
 "metadata": {
  "kernelspec": {
   "display_name": "inait-predict-examples",
   "language": "python",
   "name": "python3"
  },
  "language_info": {
   "codemirror_mode": {
    "name": "ipython",
    "version": 3
   },
   "file_extension": ".py",
   "mimetype": "text/x-python",
   "name": "python",
   "nbconvert_exporter": "python",
   "pygments_lexer": "ipython3",
   "version": "3.12.9"
  }
 },
 "nbformat": 4,
 "nbformat_minor": 5
}
