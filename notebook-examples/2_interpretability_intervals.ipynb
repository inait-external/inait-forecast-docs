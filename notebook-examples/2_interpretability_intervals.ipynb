{
 "cells": [
  {
   "cell_type": "markdown",
   "id": "1840101c",
   "metadata": {},
   "source": [
    "## Quickstart \n",
    "\n",
    "In this notebook you will learn how to set up inait's prediction tool and its basic functionalities.\n",
    "\n",
    "We will use the classic Airline passenger dataset as a companion dataset but feel free to use your own data!"
   ]
  },
  {
   "cell_type": "markdown",
   "id": "e00050d3",
   "metadata": {},
   "source": [
    "### Prerequisites\n",
    "\n",
    "Let's import the relevant packages first."
   ]
  },
  {
   "cell_type": "code",
   "execution_count": null,
   "id": "b8c745bc",
   "metadata": {},
   "outputs": [],
   "source": [
    "import sys\n",
    "import os\n",
    "\n",
    "sys.path.append(os.path.join(os.path.dirname(os.getcwd())))\n",
    "import pandas as pd\n",
    "\n",
    "from inait.prediction_script import predict\n",
    "from inait.plot_script import plot"
   ]
  },
  {
   "cell_type": "markdown",
   "id": "217095b6",
   "metadata": {},
   "source": [
    "Now specify the given base url and authentication key."
   ]
  },
  {
   "cell_type": "code",
   "execution_count": null,
   "id": "a8e2cd80",
   "metadata": {},
   "outputs": [],
   "source": [
    "# API Configuration\n",
    "try:\n",
    "    base_url = os.environ[\n",
    "        \"API_BASE_URL\"\n",
    "    ]  # Add the URL of your inait forecast deployment/SaaS\n",
    "    auth_key = os.environ[\"API_AUTH_KEY\"]  # Replace with your actual API key\n",
    "except KeyError as e:\n",
    "    raise ValueError(\n",
    "        f\"❌ Missing environment variable: {e}. Please set API_BASE_URL and API_AUTH_KEY.\"\n",
    "    )"
   ]
  },
  {
   "cell_type": "markdown",
   "id": "feea1e14",
   "metadata": {},
   "source": [
    "### Run your first prediction model\n",
    "\n",
    "We will present an example using the classic Box & Jenkins dataset that contains the monthly number of airline passengers between 1949 and 1960 (source: Box, George EP, et al. Time series analysis: forecasting and control. John Wiley & Sons, 2015.). The goal is to predict the passengers for the next year, i.e., 12 steps ahead. \n",
    "\n",
    "To forecast using inait models you need to specifiy the dataset using `data_path`, how many steps in the future you want to forecast (the so-called `forecasting_horizon`), and how many steps in the past you want to use to make a prediction (`observation_length`). "
   ]
  },
  {
   "cell_type": "code",
   "execution_count": null,
   "id": "7c86e340",
   "metadata": {},
   "outputs": [],
   "source": [
    "### Load the data\n",
    "data_path = \"../data/Airline.csv\"\n",
    "data = pd.read_csv(\n",
    "    data_path, index_col=0\n",
    ")  # dataset must have a valid datetime index with fixed frequency\n",
    "\n",
    "# Configure prediction parameters\n",
    "target_columns = [\n",
    "    \"number_of_passengers\"\n",
    "]  # List of target columns to predict in the dataset\n",
    "forecasting_horizon = 12  # Predict 12 time steps ahead\n",
    "observation_length = 24  # Use last 24 time steps as historical context"
   ]
  },
  {
   "cell_type": "code",
   "execution_count": null,
   "id": "104c6613",
   "metadata": {},
   "outputs": [],
   "source": [
    "prediction, session_id = predict(\n",
    "    base_url=base_url,\n",
    "    auth_key=auth_key,\n",
    "    data_path=data_path,\n",
    "    target_columns=target_columns,\n",
    "    forecasting_horizon=forecasting_horizon,\n",
    "    observation_length=observation_length,\n",
    ")\n",
    "\n",
    "prediction"
   ]
  },
  {
   "cell_type": "code",
   "execution_count": null,
   "id": "c3299853",
   "metadata": {},
   "outputs": [],
   "source": [
    "plot(historical_data=data, predicted_data=prediction)"
   ]
  },
  {
   "cell_type": "markdown",
   "id": "ce5dee60",
   "metadata": {},
   "source": [
    "You can now try it out with different `forecasting_horizon` or `observation_length` parameters, or use you own dataset!"
   ]
  },
  {
   "cell_type": "code",
   "execution_count": null,
   "id": "87b41597",
   "metadata": {},
   "outputs": [],
   "source": [
    "from inait.explanation_script import create_explanation_payload\n",
    "from inait.utils import make_request\n",
    "\n",
    "payload = create_explanation_payload(\n",
    "    session_id=session_id, cutoff_days=\"1960-12-31 00:00:00\"\n",
    ")\n",
    "explanation_response = make_request(\n",
    "    base_url + \"/explanation\", payload, auth_key=auth_key\n",
    ")\n",
    "df = explanation_response[\"response\"][\"data\"][\"1960-12-31 00:00:00\"][\n",
    "    \"1961-01-31 00:00:00\"\n",
    "]\n",
    "\n",
    "df = pd.DataFrame([df])\n",
    "df = df.iloc[:, :-1]\n",
    "df = df.T\n",
    "\n",
    "df"
   ]
  },
  {
   "cell_type": "markdown",
   "id": "634d7dc3",
   "metadata": {},
   "source": []
  }
 ],
 "metadata": {
  "kernelspec": {
   "display_name": "inait-predict-examples",
   "language": "python",
   "name": "python3"
  },
  "language_info": {
   "codemirror_mode": {
    "name": "ipython",
    "version": 3
   },
   "file_extension": ".py",
   "mimetype": "text/x-python",
   "name": "python",
   "nbconvert_exporter": "python",
   "pygments_lexer": "ipython3",
   "version": "3.12.9"
  }
 },
 "nbformat": 4,
 "nbformat_minor": 5
}
