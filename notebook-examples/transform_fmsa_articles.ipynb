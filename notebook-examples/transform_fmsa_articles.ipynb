{
 "cells": [
  {
   "cell_type": "markdown",
   "id": "7fb27b941602401d91542211134fc71a",
   "metadata": {},
   "source": [
    "# Transform FMSA Article Submissions\n",
    "\n",
    "Load the raw CSV, normalize the date column, add a lagged submission feature, and write an updated file next to the original."
   ]
  },
  {
   "cell_type": "code",
   "execution_count": null,
   "id": "acae54e37e7d407bbb7b55eff062a284",
   "metadata": {},
   "outputs": [],
   "source": [
    "from pathlib import Path\n",
    "\n",
    "import pandas as pd\n",
    "\n",
    "possible_roots = [Path.cwd(), Path.cwd().parent]\n",
    "source_csv = None\n",
    "for root in possible_roots:\n",
    "    candidate = root / \"data\" / \"FMSA_Articles.csv\"\n",
    "    if candidate.exists():\n",
    "        repo_root = root\n",
    "        source_csv = candidate\n",
    "        break\n",
    "\n",
    "if source_csv is None:\n",
    "    raise FileNotFoundError(\n",
    "        \"Could not locate data/FMSA_Articles.csv from the current or parent directory.\"\n",
    "    )\n",
    "\n",
    "output_csv = source_csv.with_name(f\"{source_csv.stem}_with_lag.csv\")\n",
    "source_csv, output_csv"
   ]
  },
  {
   "cell_type": "code",
   "execution_count": null,
   "id": "9a63283cbaf04dbcab1f6479b197f3a8",
   "metadata": {},
   "outputs": [],
   "source": [
    "raw_df = pd.read_csv(source_csv, encoding=\"utf-8-sig\")\n",
    "\n",
    "df = raw_df.rename(columns={\"index\": \"date\"})\n",
    "df[\"date\"] = pd.to_datetime(df[\"date\"], format=\"%m/%d/%y\")\n",
    "\n",
    "article_series = pd.to_numeric(df[\"Article submissions\"], errors=\"coerce\")\n",
    "if article_series.isna().any():\n",
    "    raise ValueError(\"Unable to parse 'Article submissions' into numeric values.\")\n",
    "df[\"Article submissions\"] = article_series.astype(\"Int64\")\n",
    "\n",
    "df = df.sort_values(\"date\").reset_index(drop=True)\n",
    "df[\"Article submissions lagged\"] = df[\"Article submissions\"].shift(1)\n",
    "df[\"Article submissions lagged\"] = df[\"Article submissions lagged\"].astype(\"Int64\")\n",
    "\n",
    "df_out = df.assign(date=df[\"date\"].dt.strftime(\"%Y-%m-%d\"))[\n",
    "    [\"date\", \"Article submissions\", \"Article submissions lagged\"]\n",
    "].dropna()\n",
    "\n",
    "df_out.to_csv(output_csv, index=False)\n",
    "\n",
    "print(f\"Wrote transformed data to {output_csv}\")\n",
    "df_out.head()"
   ]
  }
 ],
 "metadata": {
  "kernelspec": {
   "display_name": "inait-predict-examples",
   "language": "python",
   "name": "python3"
  },
  "language_info": {
   "codemirror_mode": {
    "name": "ipython",
    "version": 3
   },
   "file_extension": ".py",
   "mimetype": "text/x-python",
   "name": "python",
   "nbconvert_exporter": "python",
   "pygments_lexer": "ipython3",
   "version": "3.12.11"
  }
 },
 "nbformat": 4,
 "nbformat_minor": 5
}
