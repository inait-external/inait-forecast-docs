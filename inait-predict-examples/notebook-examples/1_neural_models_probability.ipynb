{
 "cells": [
  {
   "cell_type": "markdown",
   "id": "1840101c",
   "metadata": {},
   "source": [
    "## Neuro-boosted models and probabilistic forecast\n",
    "\n",
    "The strength of inait forecasting models lies in the connection with digital brains. In this example we will show how to use more advanced models. In the second part we will present probabilistic forecasting which provides a distribution of possible outcomes associated with probabilities, allowing the user and stakeholders to take better decisions under uncertainty. "
   ]
  },
  {
   "cell_type": "markdown",
   "id": "e00050d3",
   "metadata": {},
   "source": [
    "### Prerequisites"
   ]
  },
  {
   "cell_type": "code",
   "execution_count": null,
   "id": "a8e2cd80",
   "metadata": {},
   "outputs": [],
   "source": [
    "# Add parent directory to Python path for client imports\n",
    "import sys\n",
    "import os\n",
    "sys.path.append(os.path.join(os.path.dirname(os.getcwd())))\n",
    "\n",
    "import pandas as pd \n",
    "\n",
    "from client.prediction_script import (\n",
    "    create_payload_from_file,\n",
    "    get_dataframe_from_response,\n",
    ")\n",
    "from client.utils import make_request\n",
    "# 🔧 API Configuration\n",
    "base_url = \"https://\"       # Add the URL of your inait forecast deployment/SaaS\n",
    "auth_key = \"your_key_here\"  # Replace with your actual API key\n",
    "\n",
    "# 🛡️ Validate authentication setup\n",
    "if not auth_key:\n",
    "    raise ValueError(\"❌ Authentication key is required. Please check your API credentials.\")\n",
    "\n",
    "if not base_url:\n",
    "    raise ValueError(\"❌ Base URL is required. Please check your API endpoint.\")"
   ]
  },
  {
   "cell_type": "markdown",
   "id": "feea1e14",
   "metadata": {},
   "source": [
    "### Split the data into train/test \n",
    "\n",
    "For this example we use another classic dataset: the Etth1. This has hourly granularity and 7 variables from loads to temperatures etc. We will predict all 7 quantities for the next 4 days, i.e., a forecasting horizon of 24 steps. "
   ]
  },
  {
   "cell_type": "code",
   "execution_count": null,
   "id": "104c6613",
   "metadata": {},
   "outputs": [],
   "source": [
    "### Load and visualize the data \n",
    "\n",
    "data_path = \"../data/autoformer_etth1.csv\"\n",
    "data = pd.read_csv(data_path, index_col=0)\n",
    "data.columns = [col.strip('__target') for col in data.columns]  # Clean column names\n",
    "display(data.head())\n",
    "\n",
    "# Configure prediction parameters\n",
    "forecasting_horizon = 24  # Predict 24 time steps ahead (note: 96 steps is the default for the ETTh1 dataset but to speed up the example, we will use 24 steps)\n",
    "observation_length = 94   # Use last 24 points as historical context\n",
    "\n",
    "# Create the prediction payload\n",
    "# This packages your data and parameters into the format expected by the API\n",
    "payload = create_payload_from_file(\n",
    "    file_path=data_path,\n",
    "    target_columns= \",\".join(data.columns.tolist()), # Use all columns as targets\n",
    "    forecasting_horizon=forecasting_horizon,\n",
    "    observation_length=observation_length,\n",
    ")\n",
    "\n",
    "# Send prediction request to the API\n",
    "response = make_request( base_url + \"/prediction\", payload, auth_key=auth_key)\n",
    "\n",
    "# Process the response and extract results\n",
    "df, session_id = get_dataframe_from_response(response)\n",
    "\n",
    "# Display the prediction results\n",
    "display(df)"
   ]
  }
 ],
 "metadata": {
  "kernelspec": {
   "display_name": "inait-predict-examples",
   "language": "python",
   "name": "python3"
  },
  "language_info": {
   "codemirror_mode": {
    "name": "ipython",
    "version": 3
   },
   "file_extension": ".py",
   "mimetype": "text/x-python",
   "name": "python",
   "nbconvert_exporter": "python",
   "pygments_lexer": "ipython3",
   "version": "3.13.3"
  }
 },
 "nbformat": 4,
 "nbformat_minor": 5
}
