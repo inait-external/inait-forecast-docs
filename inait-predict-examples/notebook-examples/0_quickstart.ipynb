{
 "cells": [
  {
   "cell_type": "markdown",
   "id": "1840101c",
   "metadata": {},
   "source": [
    "## Quickstart \n",
    "\n",
    "To forecast using inait models you need to specifiy the dataset, how many steps in the future you want to forecast (the so-called `forecasting_horizon`), and how many steps in the past you want to use to train the model (`observation_length`). "
   ]
  },
  {
   "cell_type": "markdown",
   "id": "e00050d3",
   "metadata": {},
   "source": [
    "### Prerequisites"
   ]
  },
  {
   "cell_type": "code",
   "execution_count": null,
   "id": "a8e2cd80",
   "metadata": {},
   "outputs": [],
   "source": [
    "# Add parent directory to Python path for client imports\n",
    "import sys\n",
    "import os\n",
    "sys.path.append(os.path.join(os.path.dirname(os.getcwd())))\n",
    "import pandas as pd \n",
    "\n",
    "import plotly.express as px\n",
    "pd.options.plotting.backend = \"plotly\"\n",
    "\n",
    "\n",
    "from client.prediction_script import (\n",
    "    create_payload_from_file,\n",
    "    get_dataframe_from_response,\n",
    ")\n",
    "from client.utils import make_request\n",
    "# 🔧 API Configuration\n",
    "base_url = \"https://\"       # Add the URL of your inait forecast deployment/SaaS\n",
    "auth_key = \"your_key_here\"  # Replace with your actual API key\n",
    "\n",
    "\n",
    "# 🛡️ Validate authentication setup\n",
    "if not auth_key:\n",
    "    raise ValueError(\"❌ Authentication key is required. Please check your API credentials.\")\n",
    "\n",
    "if not base_url:\n",
    "    raise ValueError(\"❌ Base URL is required. Please check your API endpoint.\")"
   ]
  },
  {
   "cell_type": "markdown",
   "id": "feea1e14",
   "metadata": {},
   "source": [
    "### Run your first prediction model\n",
    "\n",
    "We will present an example using the classic Box & Jenkins dataset that contains the monthly number of airline passengers between 1949 and 1960 (source: Box, George EP, et al. Time series analysis: forecasting and control. John Wiley & Sons, 2015.). The goal is to predict the passengers for the next year, i.e., 12 steps ahead. "
   ]
  },
  {
   "cell_type": "code",
   "execution_count": null,
   "id": "104c6613",
   "metadata": {},
   "outputs": [],
   "source": [
    "### Load  the data \n",
    "data_path = \"../data/Airline.csv\"\n",
    "data = pd.read_csv(data_path, index_col=0)\n",
    "\n",
    "# Configure prediction parameters\n",
    "target_columns = \"number_of_passengers\" \n",
    "forecasting_horizon = 12  # Predict 12 time steps ahead\n",
    "observation_length = 24   # Use last 24 points as historical context\n",
    "\n",
    "# Create the prediction payload\n",
    "# This packages your data and parameters into the format expected by the API\n",
    "payload = create_payload_from_file(\n",
    "    file_path=data_path,\n",
    "    target_columns=target_columns,\n",
    "    forecasting_horizon=forecasting_horizon,\n",
    "    observation_length=observation_length,\n",
    ")\n",
    "\n",
    "# Send prediction request to the API\n",
    "response = make_request(base_url + \"/prediction\", payload, auth_key=auth_key)\n",
    "\n",
    "# Process the response and extract results\n",
    "df, session_id = get_dataframe_from_response(response)"
   ]
  },
  {
   "cell_type": "code",
   "execution_count": null,
   "id": "9cd728c3",
   "metadata": {},
   "outputs": [],
   "source": [
    "from client.plot_script import create_plot_payload, plot_image, bytes_from_base64\n",
    "\n",
    "# Create a plotting payload using our session from the prediction\n",
    "# The session_id links this plot to our previous prediction request\n",
    "payload = create_plot_payload(\n",
    "    session_id, \n",
    "    plot_type = \"prediction\", \n",
    "    cutoff_date=None,      # No specific cutoff needed for prediction plots\n",
    "    prediction_for=None    # Plot all predictions\n",
    ")\n",
    "\n",
    "# Request the plot from the API\n",
    "response = make_request(base_url + \"/plot\", payload, auth_key=auth_key)\n",
    "\n",
    "# Extract and display the generated image\n",
    "# The API returns plots as base64-encoded images\n",
    "image_bytes = bytes_from_base64(response[\"response\"][\"data\"])\n",
    "plot_image(image_bytes)"
   ]
  },
  {
   "cell_type": "code",
   "execution_count": null,
   "id": "05ab0b94",
   "metadata": {},
   "outputs": [],
   "source": []
  },
  {
   "cell_type": "code",
   "execution_count": null,
   "id": "c3299853",
   "metadata": {},
   "outputs": [],
   "source": []
  }
 ],
 "metadata": {
  "kernelspec": {
   "display_name": "inait-predict-examples",
   "language": "python",
   "name": "python3"
  },
  "language_info": {
   "codemirror_mode": {
    "name": "ipython",
    "version": 3
   },
   "file_extension": ".py",
   "mimetype": "text/x-python",
   "name": "python",
   "nbconvert_exporter": "python",
   "pygments_lexer": "ipython3",
   "version": "3.13.3"
  }
 },
 "nbformat": 4,
 "nbformat_minor": 5
}
